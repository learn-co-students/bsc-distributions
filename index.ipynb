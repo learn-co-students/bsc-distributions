{
 "cells": [
  {
   "cell_type": "markdown",
   "metadata": {},
   "source": [
    "# Statistical Distributions"
   ]
  },
  {
   "cell_type": "markdown",
   "metadata": {},
   "source": [
    "## Question 1\n",
    "\n",
    "**Use the following information to determine your answers for questions 1 and 2:**\n",
    "\n",
    "> The typicle adult male shoe size has a bell shaped distribution with a mean of 10.5 and a standard deviation of 1.3.\n",
    "\n",
    "About 68% of adult men typically have a shoe size between a minimum of  ________ and a maximum of _____________\n",
    "\n",
    "Please assign your answer to the variable `question_1`, with a datatype of `tuple`, rounded to the first decimal place, and with the following format:\n",
    "\n",
    "`(min_value, max_value)`"
   ]
  },
  {
   "cell_type": "code",
   "execution_count": 40,
   "metadata": {},
   "outputs": [
    {
     "data": {
      "text/plain": [
       "(9.2, 11.8)"
      ]
     },
     "execution_count": 40,
     "metadata": {},
     "output_type": "execute_result"
    }
   ],
   "source": [
    "question_1 = (10.5 - 1.3, 10.5 + 1.3)\n",
    "question_1"
   ]
  },
  {
   "cell_type": "markdown",
   "metadata": {},
   "source": [
    "## Question 2\n",
    "\n",
    "Suppose Johnny has a shoe size of 8. How many standard deviations are they from the mean? Please round to the second decimal point. Assign your answer to the variable `question_2`"
   ]
  },
  {
   "cell_type": "code",
   "execution_count": 42,
   "metadata": {},
   "outputs": [
    {
     "data": {
      "text/plain": [
       "1.92"
      ]
     },
     "execution_count": 42,
     "metadata": {},
     "output_type": "execute_result"
    }
   ],
   "source": [
    "question_2 = round((10.5 - 8)/1.3, 2)\n",
    "question_2"
   ]
  },
  {
   "cell_type": "markdown",
   "metadata": {},
   "source": [
    "## Question 3\n",
    "\n",
    "**For the next three questions, use the following information to determine your answers:** \n",
    "\n",
    "A psychology experiment on memory was conducted which required participants to recall anywhere from 1 to 10 pieces of information. Based on many results, the (partial) probability distribution below was determined for the discrete random variable (X = number of pieces of information remembered (during a fixed time period)).\n",
    "\n",
    "What is the missing probability `P(X=7)`? Your answer should be rounded to the second decimal, and assigned to the variable `question_3`.\n",
    "\n",
    "| X = # of information \t| 1   \t| 2    \t| 3    \t| 4    \t| 5    \t| 6    \t| 7 \t| 8    \t| 9    \t| 10   \t|\n",
    "|----------------------\t|-----\t|------\t|------\t|------\t|------\t|------\t|---\t|------\t|------\t|------\t|\n",
    "| Probability          \t| 0.0 \t| 0.02 \t| 0.04 \t| 0.07 \t| 0.15 \t| 0.18 \t| ? \t| 0.14 \t| 0.11 \t| 0.05 \t|\n"
   ]
  },
  {
   "cell_type": "code",
   "execution_count": 45,
   "metadata": {},
   "outputs": [
    {
     "data": {
      "text/plain": [
       "0.24"
      ]
     },
     "execution_count": 45,
     "metadata": {},
     "output_type": "execute_result"
    }
   ],
   "source": [
    "# Your answer here\n",
    "question_3 = round(1 - (0.02 + 0.04 + 0.07 + 0.15 + 0.18 + 0.14 + 0.11 + 0.05), 2)\n",
    "question_3"
   ]
  },
  {
   "cell_type": "markdown",
   "metadata": {},
   "source": [
    "## Question 4\n",
    "Using probabilities from the above table, complete the table below to provide the cumulative distribution function of X.\n",
    "\n",
    "Please assign your answer to the variable `question_four` and format your response in the following way:\n",
    "\n",
    "(val_one, val_two, val_three, val_four, val_five, val_six, val_seven, val_eight, val_nine, val_ten)\n",
    "\n",
    "Please round each number to the second decimal place.\n",
    "\n",
    "| X = # of information \t| 1 \t| 2 \t| 3 \t| 4 \t| 5 \t| 6 \t| 7 \t| 8 \t| 9 \t| 10 \t|\n",
    "|----------------------\t|---\t|---\t|---\t|---\t|---\t|---\t|---\t|---\t|---\t|----\t|\n",
    "| Probability          \t| ? \t| ? \t| ? \t| ? \t| ? \t| ? \t| ? \t| ? \t| ? \t| ?  \t|"
   ]
  },
  {
   "cell_type": "code",
   "execution_count": 52,
   "metadata": {},
   "outputs": [
    {
     "data": {
      "text/plain": [
       "(0.0, 0.02, 0.06, 0.13, 0.28, 0.46, 0.7, 0.84, 0.95, 1.0)"
      ]
     },
     "execution_count": 52,
     "metadata": {},
     "output_type": "execute_result"
    }
   ],
   "source": [
    "val_one = 0.0\n",
    "val_two = val_one + 0.02\n",
    "val_three = val_two + 0.04\n",
    "val_four = val_three + 0.07\n",
    "val_five = val_four + 0.15\n",
    "val_six = val_five + 0.18\n",
    "val_seven = val_six + 0.24\n",
    "val_eight = val_seven + 0.14\n",
    "val_nine = val_eight + 0.11\n",
    "val_ten = val_nine + 0.05\n",
    "question_four = (val_one, val_two, val_three, val_four, val_five, val_six, val_seven, val_eight, val_nine, val_ten)\n",
    "question_four"
   ]
  },
  {
   "cell_type": "markdown",
   "metadata": {},
   "source": [
    "## Question 5\n",
    "\n",
    "Given that the person recalls at least 7 pieces of information, what is the probability that they recall all 10 pieces? Please round to the second decimal place, and assign your answer to the variable `question_5`."
   ]
  },
  {
   "cell_type": "code",
   "execution_count": 55,
   "metadata": {},
   "outputs": [
    {
     "data": {
      "text/plain": [
       "0.09259259259259259"
      ]
     },
     "execution_count": 55,
     "metadata": {},
     "output_type": "execute_result"
    }
   ],
   "source": [
    "# P(10| least 7) = P(least 7|10) * P(10)/P(least 7)\n",
    "# P(10|least 7) = (1 * 0.05)/(0.24 + 0.14 + 0.11 + 0.05)\n",
    "(1 * 0.05)/(0.24 + 0.14 + 0.11 + 0.05)"
   ]
  },
  {
   "cell_type": "markdown",
   "metadata": {},
   "source": [
    "## Question 6 - Confidence Intervals"
   ]
  },
  {
   "cell_type": "markdown",
   "metadata": {},
   "source": [
    "A random sample of 35 Flatiron Students has a mean of 8.3 hours of sleep with a standard deviation of 3 hours. \n",
    "\n",
    "In the cell below, calculate the sample's standard error and the z statistic for a 95% confidence interval. Assign your answer to the variable `question_6` with a datatype of tuple and formatted as follows:\n",
    "\n",
    "`(standard_error, z_value)`"
   ]
  },
  {
   "cell_type": "code",
   "execution_count": 63,
   "metadata": {},
   "outputs": [
    {
     "data": {
      "text/plain": [
       "(0.50709255283711, 1.959963984540054)"
      ]
     },
     "execution_count": 63,
     "metadata": {},
     "output_type": "execute_result"
    }
   ],
   "source": [
    "from scipy import stats\n",
    "\n",
    "std = 3\n",
    "n = 35\n",
    "standard_error = std/(n**0.5)\n",
    "z_value = stats.norm.ppf(.975)\n",
    "question_6 = (standard_error, z_value)\n",
    "question_6"
   ]
  },
  {
   "cell_type": "markdown",
   "metadata": {},
   "source": [
    "## Question 7 - Confidence Intervals\n",
    "\n",
    "What is the 95% confidence interval for the mean number of hours slept by our sample of Flatiron Students?"
   ]
  },
  {
   "cell_type": "code",
   "execution_count": 64,
   "metadata": {},
   "outputs": [
    {
     "name": "stdout",
     "output_type": "stream",
     "text": [
      "The 95% confidence interval is  (7.306116859610791, 9.29388314038921)\n"
     ]
    }
   ],
   "source": [
    "mu = 8.3\n",
    "margin_of_error = z_value * standard_error\n",
    "conf = (mu - margin_of_error, mu + margin_of_error)\n",
    "print('The 95% confidence interval is ', conf)"
   ]
  },
  {
   "cell_type": "markdown",
   "metadata": {},
   "source": [
    "## Question 8 - Select the matching distribution\n",
    "\n",
    "Consider the following distributions"
   ]
  },
  {
   "cell_type": "code",
   "execution_count": 1,
   "metadata": {},
   "outputs": [
    {
     "data": {
      "image/png": "[encoded data removed]",
      "text/plain": [
       "<Figure size 1440x720 with 6 Axes>"
      ]
     },
     "metadata": {
      "needs_background": "light"
     },
     "output_type": "display_data"
    }
   ],
   "source": [
    "# Run this cell unchanged\n",
    "from visuals import multiple_choice\n",
    "multiple_choice()"
   ]
  },
  {
   "cell_type": "markdown",
   "metadata": {},
   "source": [
    "Please assign the visualization title letter to the prompt that best matches the data."
   ]
  },
  {
   "cell_type": "markdown",
   "metadata": {},
   "source": [
    "1. Normal, symmetrical, visual evidence of outliers.\n",
    "    - F\n",
    "1. Unimodel, skewed to the right, no apparent outliers.\n",
    "    - C\n",
    "1. Uniform, symmetrical, no apparent outliers.\n",
    "    - A\n",
    "1. Normal, symmetrical, no apparrent outliers.\n",
    "    - E\n",
    "1. Bimodal, symmetrical, no apparent outliers.\n",
    "    - B\n",
    "1. Exponential, skewed to the left.\n",
    "    - D"
   ]
  }
 ],
 "metadata": {
  "kernelspec": {
   "display_name": "Python 3",
   "language": "python",
   "name": "python3"
  },
  "language_info": {
   "codemirror_mode": {
    "name": "ipython",
    "version": 3
   },
   "file_extension": ".py",
   "mimetype": "text/x-python",
   "name": "python",
   "nbconvert_exporter": "python",
   "pygments_lexer": "ipython3",
   "version": "3.7.7"
  }
 },
 "nbformat": 4,
 "nbformat_minor": 4
}
